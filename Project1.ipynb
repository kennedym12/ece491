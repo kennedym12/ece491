{
 "cells": [
  {
   "cell_type": "code",
   "execution_count": 22,
   "metadata": {},
   "outputs": [
    {
     "name": "stdout",
     "output_type": "stream",
     "text": [
      "Enter the names of 3 students and their corresponding grade.\n"
     ]
    },
    {
     "name": "stdin",
     "output_type": "stream",
     "text": [
      "name1:  Kennedy\n",
      "grade1:  100\n",
      "name2:  Ryan\n",
      "grade2:  100\n",
      "name3:  Dj\n",
      "grade3:  100\n"
     ]
    },
    {
     "name": "stdout",
     "output_type": "stream",
     "text": [
      "Students: ['Kennedy', 'Ryan', 'Dj'] Grades: [100, 100, 100]\n"
     ]
    }
   ],
   "source": [
    "#accept user input for lists\n",
    "try:\n",
    "    print('Enter the names of 3 students and their corresponding grade.')\n",
    "    name1=input('name1: ')\n",
    "    grade1=input('grade1: ')\n",
    "    grade1=int(grade1)\n",
    "    name2=input('name2: ')\n",
    "    grade2=input('grade2: ')\n",
    "    grade2=int(grade2)\n",
    "    name3=input('name3: ')\n",
    "    grade3=input('grade3: ')\n",
    "    grade3=int(grade3)\n",
    "    students=[name1,name2,name3]\n",
    "    grades=[grade1,grade2,grade3]\n",
    "    print('Students:', students,'Grades:', grades)\n",
    "except ValueError:\n",
    "    print('Enter a valid numerical input for grade.')\n",
    "    \n"
   ]
  },
  {
   "cell_type": "code",
   "execution_count": 58,
   "metadata": {},
   "outputs": [],
   "source": [
    "#converts number grade to letter grade\n",
    "def numToLetter(num):\n",
    "    if(num>89):\n",
    "        letterGrade='A'\n",
    "    elif(num>79):\n",
    "        letterGrade='B'\n",
    "    elif(num>69):\n",
    "        letterGrade='C'\n",
    "    elif(num>59):\n",
    "        letterGrade='D'\n",
    "    else:\n",
    "        letterGrade='F'\n",
    "    return letterGrade;"
   ]
  },
  {
   "cell_type": "code",
   "execution_count": 60,
   "metadata": {},
   "outputs": [
    {
     "name": "stdout",
     "output_type": "stream",
     "text": [
      "Gradebook: ('Kennedy', 90) ('Ryan', 95) ('Dj', 75)\n"
     ]
    }
   ],
   "source": [
    "#make the gradebook (using zip function)\n",
    "gradebook=zip(students,grades)\n",
    "print('Gradebook:',*gradebook)"
   ]
  },
  {
   "cell_type": "code",
   "execution_count": 59,
   "metadata": {},
   "outputs": [
    {
     "name": "stdout",
     "output_type": "stream",
     "text": [
      "Number of students: 3\n",
      "Average grade: 86.66666666666667 %\n",
      "Letter grades: ['A', 'A', 'C']\n",
      "Average letter grade: B\n"
     ]
    }
   ],
   "source": [
    "#num of people in the class, avg grade, get list of number grades, avg letter grade\n",
    "print('Number of students:',len(students))\n",
    "total=0\n",
    "for num in grades:\n",
    "    total+=num;\n",
    "avgGrade=total/3;\n",
    "print('Average grade:',avgGrade,'%')\n",
    "letterGrades=[numToLetter(num) for num in grades]\n",
    "print('Letter grades:',letterGrades)\n",
    "avgLetterGrade=numToLetter(avgGrade)\n",
    "print('Average letter grade:',avgLetterGrade)"
   ]
  },
  {
   "cell_type": "code",
   "execution_count": 44,
   "metadata": {},
   "outputs": [
    {
     "name": "stdout",
     "output_type": "stream",
     "text": [
      "[0, 2, 4, 6, 8, 10, 12, 14, 16, 18, 20]\n",
      "[0, 2, 4, 6, 8]\n",
      "4 is an even number less than 10: True\n",
      "10.488088481701515\n"
     ]
    }
   ],
   "source": [
    "import math\n",
    "evens=list(n for n in range(21) if n%2==0)\n",
    "print(evens)\n",
    "evensLessThanTen=evens[:5]\n",
    "print(evensLessThanTen)\n",
    "print('4 is an even number less than 10:', 4 in evensLessThanTen)\n",
    "print(math.sqrt(sum(evens)))"
   ]
  },
  {
   "cell_type": "code",
   "execution_count": 39,
   "metadata": {},
   "outputs": [],
   "source": [
    "def addLastName(names=students):\n",
    "    print('Full Names:')\n",
    "    for student in names:\n",
    "        if(' ' not in student):\n",
    "            print('{} MAYS'.format(student.upper()))\n"
   ]
  },
  {
   "cell_type": "code",
   "execution_count": 40,
   "metadata": {},
   "outputs": [
    {
     "name": "stdout",
     "output_type": "stream",
     "text": [
      "Full Names:\n",
      "KENNEDY MAYS\n",
      "RYAN MAYS\n",
      "DJ MAYS\n"
     ]
    }
   ],
   "source": [
    "addLastName()"
   ]
  },
  {
   "cell_type": "code",
   "execution_count": null,
   "metadata": {},
   "outputs": [],
   "source": []
  }
 ],
 "metadata": {
  "kernelspec": {
   "display_name": "Python 3",
   "language": "python",
   "name": "python3"
  },
  "language_info": {
   "codemirror_mode": {
    "name": "ipython",
    "version": 3
   },
   "file_extension": ".py",
   "mimetype": "text/x-python",
   "name": "python",
   "nbconvert_exporter": "python",
   "pygments_lexer": "ipython3",
   "version": "3.8.3"
  }
 },
 "nbformat": 4,
 "nbformat_minor": 4
}
