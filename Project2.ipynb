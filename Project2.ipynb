{
 "cells": [
  {
   "cell_type": "code",
   "execution_count": 66,
   "metadata": {},
   "outputs": [
    {
     "data": {
      "text/plain": [
       "'1.18.5'"
      ]
     },
     "execution_count": 66,
     "metadata": {},
     "output_type": "execute_result"
    }
   ],
   "source": [
    "import numpy as np\n",
    "import random\n",
    "np.__version__"
   ]
  },
  {
   "cell_type": "code",
   "execution_count": 79,
   "metadata": {},
   "outputs": [
    {
     "name": "stdout",
     "output_type": "stream",
     "text": [
      "Point set 1\n",
      " [ 3.  7. 11.  5.  8. 10.  2. 25. 30. 15. 42.  0.] \n",
      " Point set 2\n",
      " [[40 15 45]\n",
      " [ 8 22 43]\n",
      " [18 11 40]]\n"
     ]
    }
   ],
   "source": [
    "#create two arrays of points\n",
    "set1=np.array([3,7,11,5,8,10,2,25,30,15,42,0], dtype='float32')\n",
    "np.random.seed(2)\n",
    "set2=np.random.randint(0,50,(3,3))\n",
    "print('Point set 1\\n',set1,'\\n','Point set 2\\n', set2)"
   ]
  },
  {
   "cell_type": "code",
   "execution_count": 80,
   "metadata": {},
   "outputs": [
    {
     "name": "stdout",
     "output_type": "stream",
     "text": [
      "Dimensions in set 2:  2\n",
      "Array created from the middle row of set2\n",
      " [ 8 22 43]\n",
      "Set 2 in a 1 dimensional format\n",
      " [40 15 45  8 22 43 18 11 40]\n",
      "Set 2 added to the bottom of set 3\n",
      " [[ 8 22 43]\n",
      " [40 15 45]\n",
      " [ 8 22 43]\n",
      " [18 11 40]]\n"
     ]
    }
   ],
   "source": [
    "#attribute, slice, reshape, combine\n",
    "print('Dimensions in set 2: ',np.ndim(set2))\n",
    "set3=set2[1,:]\n",
    "print('Array created from the middle row of set2\\n',set3)\n",
    "print('Set 2 in a 1 dimensional format\\n',set2.reshape(9,))\n",
    "print('Set 2 added to the bottom of set 3\\n',np.vstack([set3,set2]))"
   ]
  },
  {
   "cell_type": "code",
   "execution_count": 81,
   "metadata": {},
   "outputs": [
    {
     "name": "stdout",
     "output_type": "stream",
     "text": [
      "Curved Point Set 1: [13. 17. 21. 15. 18. 20. 12. 35. 40. 25. 52. 10.]\n",
      "Total points: 278.0\n",
      "Average points: 23.166666\n",
      "Max points from each row of set 2: [45 43 40]\n"
     ]
    }
   ],
   "source": [
    "#total/avg/curved/max points\n",
    "np.add(set1,10,out=set1)\n",
    "print('Curved Point Set 1:',set1)\n",
    "print('Total points:',np.sum(set1))\n",
    "print('Average points:',np.mean(set1))\n",
    "print('Max points from each row of set 2:',set2.max(axis=1))"
   ]
  },
  {
   "cell_type": "code",
   "execution_count": 84,
   "metadata": {},
   "outputs": [
    {
     "name": "stdout",
     "output_type": "stream",
     "text": [
      "Set 1*Multiplier = \n",
      " [[13. 17. 21. 15. 18. 20. 12. 35. 40. 25. 52. 10.]\n",
      " [ 0.  0.  0.  0.  0.  0.  0.  0.  0.  0.  0.  0.]\n",
      " [ 0.  0.  0.  0.  0.  0.  0.  0.  0.  0.  0.  0.]\n",
      " [ 0.  0.  0.  0.  0.  0.  0.  0.  0.  0.  0.  0.]\n",
      " [ 0.  0.  0.  0.  0.  0.  0.  0.  0.  0.  0.  0.]\n",
      " [ 0.  0.  0.  0.  0.  0.  0.  0.  0.  0.  0.  0.]\n",
      " [ 0.  0.  0.  0.  0.  0.  0.  0.  0.  0.  0.  0.]\n",
      " [ 0.  0.  0.  0.  0.  0.  0.  0.  0.  0.  0.  0.]\n",
      " [ 0.  0.  0.  0.  0.  0.  0.  0.  0.  0.  0.  0.]\n",
      " [ 0.  0.  0.  0.  0.  0.  0.  0.  0.  0.  0.  0.]\n",
      " [ 0.  0.  0.  0.  0.  0.  0.  0.  0.  0.  0.  0.]\n",
      " [ 0.  0.  0.  0.  0.  0.  0.  0.  0.  0.  0.  0.]]\n",
      "Set 2*Multiplier 2 =\n",
      " [[40. 15. 45.]\n",
      " [ 0.  0.  0.]\n",
      " [ 0.  0.  0.]]\n"
     ]
    }
   ],
   "source": [
    "#point multiplier,non-zeros,etc\n",
    "mult=np.eye(12,1)\n",
    "#print('Multiplier 1\\n',mult,)\n",
    "set1=set1*mult\n",
    "print('Set 1*Multiplier = \\n',set1,)\n",
    "#11 rows are added beneath the inital row of set1 while the multiplier is padded\n",
    "# to the left of its initial column (with more columns) so both become 12X12\n",
    "mult2=mult[:3]\n",
    "#only keeps the first 3 rows of mult\n",
    "print('Set 2*Multiplier 2 =\\n',set2*mult2)"
   ]
  },
  {
   "cell_type": "code",
   "execution_count": 85,
   "metadata": {},
   "outputs": [
    {
     "name": "stdout",
     "output_type": "stream",
     "text": [
      "Point set 2:\n",
      " [[40 15 45]\n",
      " [ 8 22 43]\n",
      " [18 11 40]]\n",
      "There are values above the 25 point cutoff: True\n",
      "Boolean version of the set:\n",
      " [[ True False  True]\n",
      " [False False  True]\n",
      " [False False  True]]\n",
      "Number of values above the cutoff: 4\n",
      "Values above the cutoff: [40 45 43 40]\n"
     ]
    }
   ],
   "source": [
    "#(number of) values above cutoff, total above\n",
    "print('Point set 2:\\n',set2)\n",
    "print('There are values above the 25 point cutoff:',np.any(set2>25))\n",
    "print('Boolean version of the set:\\n',set2>25)\n",
    "print('Number of values above the cutoff:',np.sum(set2>25))\n",
    "print('Values above the cutoff:',set2[set2>25])"
   ]
  },
  {
   "cell_type": "code",
   "execution_count": 91,
   "metadata": {},
   "outputs": [
    {
     "name": "stdout",
     "output_type": "stream",
     "text": [
      "Values below the 25 point cutoff: [15  8 22 18 11]\n",
      "Set 1 but every other column below the first row has a value=-1\n",
      " [[13. 17. 21. 15. 18. 20. 12. 35. 40. 25. 52. 10.]\n",
      " [ 0. -1.  0. -1.  0. -1.  0. -1.  0. -1.  0. -1.]\n",
      " [ 0. -1.  0. -1.  0. -1.  0. -1.  0. -1.  0. -1.]\n",
      " [ 0. -1.  0. -1.  0. -1.  0. -1.  0. -1.  0. -1.]\n",
      " [ 0. -1.  0. -1.  0. -1.  0. -1.  0. -1.  0. -1.]\n",
      " [ 0. -1.  0. -1.  0. -1.  0. -1.  0. -1.  0. -1.]\n",
      " [ 0. -1.  0. -1.  0. -1.  0. -1.  0. -1.  0. -1.]\n",
      " [ 0. -1.  0. -1.  0. -1.  0. -1.  0. -1.  0. -1.]\n",
      " [ 0. -1.  0. -1.  0. -1.  0. -1.  0. -1.  0. -1.]\n",
      " [ 0. -1.  0. -1.  0. -1.  0. -1.  0. -1.  0. -1.]\n",
      " [ 0. -1.  0. -1.  0. -1.  0. -1.  0. -1.  0. -1.]\n",
      " [ 0. -1.  0. -1.  0. -1.  0. -1.  0. -1.  0. -1.]]\n"
     ]
    }
   ],
   "source": [
    "#display values at false indexes,change certain values in modified set1\n",
    "falseRowIndexes=[0,1,1,2,2]\n",
    "falseColumnIndexes=[1,0,1,0,1]\n",
    "print('Values below the 25 point cutoff:',set2[falseRowIndexes,falseColumnIndexes])\n",
    "#print(set1)\n",
    "set1[1:,[1,3,5,7,9,11]]=-1\n",
    "print('Set 1 but every other column below the first row has a value=-1\\n',set1)"
   ]
  },
  {
   "cell_type": "code",
   "execution_count": 92,
   "metadata": {},
   "outputs": [
    {
     "name": "stdout",
     "output_type": "stream",
     "text": [
      "Set 1 after sorting along its rows\n",
      " [[10. 12. 13. 15. 17. 18. 20. 21. 25. 35. 40. 52.]\n",
      " [-1. -1. -1. -1. -1. -1.  0.  0.  0.  0.  0.  0.]\n",
      " [-1. -1. -1. -1. -1. -1.  0.  0.  0.  0.  0.  0.]\n",
      " [-1. -1. -1. -1. -1. -1.  0.  0.  0.  0.  0.  0.]\n",
      " [-1. -1. -1. -1. -1. -1.  0.  0.  0.  0.  0.  0.]\n",
      " [-1. -1. -1. -1. -1. -1.  0.  0.  0.  0.  0.  0.]\n",
      " [-1. -1. -1. -1. -1. -1.  0.  0.  0.  0.  0.  0.]\n",
      " [-1. -1. -1. -1. -1. -1.  0.  0.  0.  0.  0.  0.]\n",
      " [-1. -1. -1. -1. -1. -1.  0.  0.  0.  0.  0.  0.]\n",
      " [-1. -1. -1. -1. -1. -1.  0.  0.  0.  0.  0.  0.]\n",
      " [-1. -1. -1. -1. -1. -1.  0.  0.  0.  0.  0.  0.]\n",
      " [-1. -1. -1. -1. -1. -1.  0.  0.  0.  0.  0.  0.]]\n",
      "The smallest value from every row in set2\n",
      " [[15 40 45]\n",
      " [ 8 22 43]\n",
      " [11 18 40]]\n"
     ]
    }
   ],
   "source": [
    "#sort along the axis then partition\n",
    "print('Set 1 after sorting along its rows\\n',np.sort(set1,axis=1))\n",
    "print('The smallest value from every row in set2\\n',np.partition(set2,1,axis=1))"
   ]
  },
  {
   "cell_type": "code",
   "execution_count": 94,
   "metadata": {},
   "outputs": [
    {
     "name": "stdout",
     "output_type": "stream",
     "text": [
      "Scorebook [( 8, 2) (22, 4) (43, 8)]\n",
      "Points greater than ten [(22, 4) (43, 8)]\n",
      "Points greater than ten(using a record array) [(22, 4) (43, 8)]\n"
     ]
    }
   ],
   "source": [
    "structure=np.dtype([('points', 'i4'), ('multiplier', 'i4')])\n",
    "scorebook=np.zeros(3,dtype=structure)\n",
    "scorebook['points']=set3\n",
    "scorebook['multiplier']=[2,4,8]\n",
    "print('Scorebook',scorebook)\n",
    "print('Points greater than ten',scorebook[scorebook['points']>10])\n",
    "scorebookRecord=scorebook.view(np.recarray)\n",
    "print('Points greater than ten(using a record array)',scorebookRecord[scorebookRecord.points>10])"
   ]
  },
  {
   "cell_type": "code",
   "execution_count": null,
   "metadata": {},
   "outputs": [],
   "source": []
  }
 ],
 "metadata": {
  "kernelspec": {
   "display_name": "Python 3",
   "language": "python",
   "name": "python3"
  },
  "language_info": {
   "codemirror_mode": {
    "name": "ipython",
    "version": 3
   },
   "file_extension": ".py",
   "mimetype": "text/x-python",
   "name": "python",
   "nbconvert_exporter": "python",
   "pygments_lexer": "ipython3",
   "version": "3.8.3"
  }
 },
 "nbformat": 4,
 "nbformat_minor": 4
}
