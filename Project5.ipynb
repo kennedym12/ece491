{
 "cells": [
  {
   "cell_type": "code",
   "execution_count": 1,
   "metadata": {},
   "outputs": [],
   "source": [
    "import numpy as np\n",
    "import pandas as pd\n",
    "import matplotlib.pyplot as plt\n",
    "#machine learning imports\n",
    "from sklearn.svm import SVR\n",
    "from sklearn.model_selection import train_test_split\n",
    "from sklearn.metrics import mean_squared_error\n",
    "import seaborn as sns\n",
    "sns.set()"
   ]
  },
  {
   "cell_type": "code",
   "execution_count": 2,
   "metadata": {},
   "outputs": [
    {
     "name": "stdout",
     "output_type": "stream",
     "text": [
      "(51, 11)\n"
     ]
    },
    {
     "data": {
      "text/html": [
       "<div>\n",
       "<style scoped>\n",
       "    .dataframe tbody tr th:only-of-type {\n",
       "        vertical-align: middle;\n",
       "    }\n",
       "\n",
       "    .dataframe tbody tr th {\n",
       "        vertical-align: top;\n",
       "    }\n",
       "\n",
       "    .dataframe thead th {\n",
       "        text-align: right;\n",
       "    }\n",
       "</style>\n",
       "<table border=\"1\" class=\"dataframe\">\n",
       "  <thead>\n",
       "    <tr style=\"text-align: right;\">\n",
       "      <th></th>\n",
       "      <th>Country</th>\n",
       "      <th>Population</th>\n",
       "      <th>YearlyChange</th>\n",
       "      <th>NetChange</th>\n",
       "      <th>Density</th>\n",
       "      <th>LandArea</th>\n",
       "      <th>Migrants</th>\n",
       "      <th>FertRate</th>\n",
       "      <th>MedAge</th>\n",
       "      <th>UrbanPop</th>\n",
       "      <th>WorldShare</th>\n",
       "    </tr>\n",
       "  </thead>\n",
       "  <tbody>\n",
       "    <tr>\n",
       "      <th>0</th>\n",
       "      <td>Afghanistan</td>\n",
       "      <td>38928346</td>\n",
       "      <td>2.33</td>\n",
       "      <td>886592</td>\n",
       "      <td>60</td>\n",
       "      <td>652860</td>\n",
       "      <td>-62920</td>\n",
       "      <td>4.6</td>\n",
       "      <td>18</td>\n",
       "      <td>25.0</td>\n",
       "      <td>0.50</td>\n",
       "    </tr>\n",
       "    <tr>\n",
       "      <th>1</th>\n",
       "      <td>Armenia</td>\n",
       "      <td>2963243</td>\n",
       "      <td>0.19</td>\n",
       "      <td>5512</td>\n",
       "      <td>104</td>\n",
       "      <td>28470</td>\n",
       "      <td>-4998</td>\n",
       "      <td>1.8</td>\n",
       "      <td>35</td>\n",
       "      <td>63.0</td>\n",
       "      <td>0.04</td>\n",
       "    </tr>\n",
       "    <tr>\n",
       "      <th>2</th>\n",
       "      <td>Azerbaijan</td>\n",
       "      <td>10139177</td>\n",
       "      <td>0.91</td>\n",
       "      <td>91459</td>\n",
       "      <td>123</td>\n",
       "      <td>82658</td>\n",
       "      <td>1200</td>\n",
       "      <td>2.1</td>\n",
       "      <td>32</td>\n",
       "      <td>56.0</td>\n",
       "      <td>0.13</td>\n",
       "    </tr>\n",
       "    <tr>\n",
       "      <th>3</th>\n",
       "      <td>Bahrain</td>\n",
       "      <td>1701575</td>\n",
       "      <td>3.68</td>\n",
       "      <td>60403</td>\n",
       "      <td>2239</td>\n",
       "      <td>760</td>\n",
       "      <td>47800</td>\n",
       "      <td>2.0</td>\n",
       "      <td>32</td>\n",
       "      <td>89.0</td>\n",
       "      <td>0.02</td>\n",
       "    </tr>\n",
       "    <tr>\n",
       "      <th>4</th>\n",
       "      <td>Bangladesh</td>\n",
       "      <td>164689383</td>\n",
       "      <td>1.01</td>\n",
       "      <td>1643222</td>\n",
       "      <td>1265</td>\n",
       "      <td>130170</td>\n",
       "      <td>-369501</td>\n",
       "      <td>2.1</td>\n",
       "      <td>28</td>\n",
       "      <td>39.0</td>\n",
       "      <td>2.11</td>\n",
       "    </tr>\n",
       "  </tbody>\n",
       "</table>\n",
       "</div>"
      ],
      "text/plain": [
       "       Country  Population  YearlyChange  NetChange  Density  LandArea  \\\n",
       "0  Afghanistan    38928346          2.33     886592       60    652860   \n",
       "1      Armenia     2963243          0.19       5512      104     28470   \n",
       "2   Azerbaijan    10139177          0.91      91459      123     82658   \n",
       "3      Bahrain     1701575          3.68      60403     2239       760   \n",
       "4   Bangladesh   164689383          1.01    1643222     1265    130170   \n",
       "\n",
       "   Migrants  FertRate  MedAge  UrbanPop  WorldShare  \n",
       "0    -62920       4.6      18      25.0        0.50  \n",
       "1     -4998       1.8      35      63.0        0.04  \n",
       "2      1200       2.1      32      56.0        0.13  \n",
       "3     47800       2.0      32      89.0        0.02  \n",
       "4   -369501       2.1      28      39.0        2.11  "
      ]
     },
     "execution_count": 2,
     "metadata": {},
     "output_type": "execute_result"
    }
   ],
   "source": [
    "#import the dataset\n",
    "population=pd.read_csv('AsiaPopulation2020.csv')\n",
    "population\n",
    "\n",
    "#clean data (set NaN values to 0 & change the string values to digits)\n",
    "population=population.fillna(0)\n",
    "print(population.shape)\n",
    "population.iloc[:5,:]"
   ]
  },
  {
   "cell_type": "code",
   "execution_count": 3,
   "metadata": {},
   "outputs": [
    {
     "name": "stdout",
     "output_type": "stream",
     "text": [
      "Accuracy: 0.008499074841591698\n"
     ]
    },
    {
     "data": {
      "image/png": "[encoded data removed]",
      "text/plain": [
       "<Figure size 432x288 with 1 Axes>"
      ]
     },
     "metadata": {},
     "output_type": "display_data"
    },
    {
     "data": {
      "image/png": "[encoded data removed]",
      "text/plain": [
       "<Figure size 432x288 with 1 Axes>"
      ]
     },
     "metadata": {},
     "output_type": "display_data"
    }
   ],
   "source": [
    "#use a SVC predict the 'World Share' column for each asian country (pre-classified)\n",
    "#sort into feature matrix and target\n",
    "X=population.iloc[:,1:]\n",
    "y=population.iloc[:,-1]\n",
    "X.shape,y.shape\n",
    "\n",
    "#further split the data into its train and test quantities\n",
    "X_train,X_test,y_train,y_test=train_test_split(X,y,test_size=0.30)\n",
    "\n",
    "#create the regressor, fit the model, predict test values, then check its accuracy\n",
    "regressor=SVR(kernel='linear')\n",
    "#regressor.classes=labels\n",
    "regressor.fit(X,y)\n",
    "y_pred=regressor.predict(X_test)\n",
    "print('Accuracy:',mean_squared_error(y_test,y_pred))\n",
    "\n",
    "#get the features to look at which is the most important \n",
    "pd.Series(abs(regressor.coef_[0]), index=population.columns[1:]).nlargest(10).plot(kind='barh')\n",
    "\n",
    "#make a graph to display the relationship between population and worldshare\n",
    "fig,ax=plt.figure(),plt.axes()\n",
    "#population.iloc[1,1]\n",
    "for num in range(50):\n",
    "    ax.scatter(population.iloc[num,1],population.iloc[num,10])\n",
    "plt.plot(population['Population'],population['WorldShare'],linestyle='-',linewidth=.5,color='black')\n",
    "plt.xlabel='Population'\n",
    "plt.ylabel='World Share'\n",
    "plt.show()"
   ]
  },
  {
   "cell_type": "code",
   "execution_count": 23,
   "metadata": {},
   "outputs": [
    {
     "name": "stdout",
     "output_type": "stream",
     "text": [
      "Predicted American World Share  4.287260784829046 \n",
      "Actual American World Share  4.23\n"
     ]
    }
   ],
   "source": [
    "#Predict the worldshare value of a country that isn't in the dataframe\n",
    "America=pd.DataFrame([330150668,9826675,0,0,0,0,0,0,0,0]).T\n",
    "American_WorldShare=regressor.predict(America)\n",
    "print('Predicted American World Share ',American_WorldShare[0],'\\nActual American World Share ',4.23)"
   ]
  },
  {
   "cell_type": "code",
   "execution_count": null,
   "metadata": {},
   "outputs": [],
   "source": []
  }
 ],
 "metadata": {
  "kernelspec": {
   "display_name": "Python 3",
   "language": "python",
   "name": "python3"
  },
  "language_info": {
   "codemirror_mode": {
    "name": "ipython",
    "version": 3
   },
   "file_extension": ".py",
   "mimetype": "text/x-python",
   "name": "python",
   "nbconvert_exporter": "python",
   "pygments_lexer": "ipython3",
   "version": "3.8.8"
  }
 },
 "nbformat": 4,
 "nbformat_minor": 4
}
